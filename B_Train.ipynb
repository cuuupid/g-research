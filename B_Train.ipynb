{
 "cells": [
  {
   "cell_type": "code",
   "execution_count": 1,
   "metadata": {
    "collapsed": true
   },
   "outputs": [],
   "source": [
    "import pandas as pd\n",
    "import numpy as np"
   ]
  },
  {
   "cell_type": "code",
   "execution_count": 2,
   "metadata": {},
   "outputs": [
    {
     "data": {
      "text/html": [
       "<div>\n",
       "<style>\n",
       "    .dataframe thead tr:only-child th {\n",
       "        text-align: right;\n",
       "    }\n",
       "\n",
       "    .dataframe thead th {\n",
       "        text-align: left;\n",
       "    }\n",
       "\n",
       "    .dataframe tbody tr th {\n",
       "        vertical-align: top;\n",
       "    }\n",
       "</style>\n",
       "<table border=\"1\" class=\"dataframe\">\n",
       "  <thead>\n",
       "    <tr style=\"text-align: right;\">\n",
       "      <th></th>\n",
       "      <th>Market</th>\n",
       "      <th>Day</th>\n",
       "      <th>Stock</th>\n",
       "      <th>x0</th>\n",
       "      <th>x1</th>\n",
       "      <th>x2</th>\n",
       "      <th>x3A</th>\n",
       "      <th>x3B</th>\n",
       "      <th>x3C</th>\n",
       "      <th>x3D</th>\n",
       "      <th>x3E</th>\n",
       "      <th>x4</th>\n",
       "      <th>x5</th>\n",
       "      <th>x6</th>\n",
       "      <th>y</th>\n",
       "      <th>Weight</th>\n",
       "    </tr>\n",
       "    <tr>\n",
       "      <th>Index</th>\n",
       "      <th></th>\n",
       "      <th></th>\n",
       "      <th></th>\n",
       "      <th></th>\n",
       "      <th></th>\n",
       "      <th></th>\n",
       "      <th></th>\n",
       "      <th></th>\n",
       "      <th></th>\n",
       "      <th></th>\n",
       "      <th></th>\n",
       "      <th></th>\n",
       "      <th></th>\n",
       "      <th></th>\n",
       "      <th></th>\n",
       "      <th></th>\n",
       "    </tr>\n",
       "  </thead>\n",
       "  <tbody>\n",
       "    <tr>\n",
       "      <th>0</th>\n",
       "      <td>1</td>\n",
       "      <td>1</td>\n",
       "      <td>363</td>\n",
       "      <td>0.002696</td>\n",
       "      <td>0.530040</td>\n",
       "      <td>0.400810</td>\n",
       "      <td>1.300048e-06</td>\n",
       "      <td>4.639533e-06</td>\n",
       "      <td>1.073594e-05</td>\n",
       "      <td>2.180516e-05</td>\n",
       "      <td>4.416943e-05</td>\n",
       "      <td>0.002212</td>\n",
       "      <td>6.214737e-07</td>\n",
       "      <td>200.000000</td>\n",
       "      <td>-0.000196</td>\n",
       "      <td>1.533780</td>\n",
       "    </tr>\n",
       "    <tr>\n",
       "      <th>1</th>\n",
       "      <td>1</td>\n",
       "      <td>1</td>\n",
       "      <td>1223</td>\n",
       "      <td>0.081093</td>\n",
       "      <td>1.366218</td>\n",
       "      <td>1.325157</td>\n",
       "      <td>1.656861e-05</td>\n",
       "      <td>3.024668e-05</td>\n",
       "      <td>5.261872e-05</td>\n",
       "      <td>4.193762e-05</td>\n",
       "      <td>4.193762e-05</td>\n",
       "      <td>0.010932</td>\n",
       "      <td>3.414868e-05</td>\n",
       "      <td>300.000000</td>\n",
       "      <td>-0.003798</td>\n",
       "      <td>0.843604</td>\n",
       "    </tr>\n",
       "    <tr>\n",
       "      <th>2</th>\n",
       "      <td>1</td>\n",
       "      <td>1</td>\n",
       "      <td>1372</td>\n",
       "      <td>0.009561</td>\n",
       "      <td>0.464871</td>\n",
       "      <td>0.328008</td>\n",
       "      <td>6.500872e-08</td>\n",
       "      <td>2.323204e-07</td>\n",
       "      <td>5.182686e-07</td>\n",
       "      <td>1.080834e-06</td>\n",
       "      <td>2.030442e-06</td>\n",
       "      <td>0.000306</td>\n",
       "      <td>4.079460e-08</td>\n",
       "      <td>159.692076</td>\n",
       "      <td>-0.000003</td>\n",
       "      <td>29.824024</td>\n",
       "    </tr>\n",
       "    <tr>\n",
       "      <th>3</th>\n",
       "      <td>1</td>\n",
       "      <td>1</td>\n",
       "      <td>1942</td>\n",
       "      <td>0.045300</td>\n",
       "      <td>0.608222</td>\n",
       "      <td>0.456662</td>\n",
       "      <td>1.928694e-08</td>\n",
       "      <td>6.495275e-08</td>\n",
       "      <td>1.338509e-07</td>\n",
       "      <td>2.644214e-07</td>\n",
       "      <td>6.980798e-07</td>\n",
       "      <td>0.000205</td>\n",
       "      <td>9.502066e-09</td>\n",
       "      <td>212.160378</td>\n",
       "      <td>-0.000008</td>\n",
       "      <td>100.388668</td>\n",
       "    </tr>\n",
       "    <tr>\n",
       "      <th>4</th>\n",
       "      <td>1</td>\n",
       "      <td>1</td>\n",
       "      <td>2712</td>\n",
       "      <td>0.001605</td>\n",
       "      <td>0.476718</td>\n",
       "      <td>0.205069</td>\n",
       "      <td>6.759866e-07</td>\n",
       "      <td>2.638783e-06</td>\n",
       "      <td>6.424519e-06</td>\n",
       "      <td>1.189923e-05</td>\n",
       "      <td>2.064450e-05</td>\n",
       "      <td>0.001525</td>\n",
       "      <td>3.428403e-07</td>\n",
       "      <td>153.724351</td>\n",
       "      <td>0.000065</td>\n",
       "      <td>5.950714</td>\n",
       "    </tr>\n",
       "  </tbody>\n",
       "</table>\n",
       "</div>"
      ],
      "text/plain": [
       "       Market  Day  Stock        x0        x1        x2           x3A  \\\n",
       "Index                                                                   \n",
       "0           1    1    363  0.002696  0.530040  0.400810  1.300048e-06   \n",
       "1           1    1   1223  0.081093  1.366218  1.325157  1.656861e-05   \n",
       "2           1    1   1372  0.009561  0.464871  0.328008  6.500872e-08   \n",
       "3           1    1   1942  0.045300  0.608222  0.456662  1.928694e-08   \n",
       "4           1    1   2712  0.001605  0.476718  0.205069  6.759866e-07   \n",
       "\n",
       "                x3B           x3C           x3D           x3E        x4  \\\n",
       "Index                                                                     \n",
       "0      4.639533e-06  1.073594e-05  2.180516e-05  4.416943e-05  0.002212   \n",
       "1      3.024668e-05  5.261872e-05  4.193762e-05  4.193762e-05  0.010932   \n",
       "2      2.323204e-07  5.182686e-07  1.080834e-06  2.030442e-06  0.000306   \n",
       "3      6.495275e-08  1.338509e-07  2.644214e-07  6.980798e-07  0.000205   \n",
       "4      2.638783e-06  6.424519e-06  1.189923e-05  2.064450e-05  0.001525   \n",
       "\n",
       "                 x5          x6         y      Weight  \n",
       "Index                                                  \n",
       "0      6.214737e-07  200.000000 -0.000196    1.533780  \n",
       "1      3.414868e-05  300.000000 -0.003798    0.843604  \n",
       "2      4.079460e-08  159.692076 -0.000003   29.824024  \n",
       "3      9.502066e-09  212.160378 -0.000008  100.388668  \n",
       "4      3.428403e-07  153.724351  0.000065    5.950714  "
      ]
     },
     "execution_count": 2,
     "metadata": {},
     "output_type": "execute_result"
    }
   ],
   "source": [
    "df = pd.read_csv('train.csv', index_col=0)\n",
    "df.head()"
   ]
  },
  {
   "cell_type": "code",
   "execution_count": 3,
   "metadata": {},
   "outputs": [
    {
     "data": {
      "text/plain": [
       "266689"
      ]
     },
     "execution_count": 3,
     "metadata": {},
     "output_type": "execute_result"
    }
   ],
   "source": [
    "np.where(df['y'].values < 0)[0].size # we have negative values, so lets not use sigmoid..."
   ]
  },
  {
   "cell_type": "code",
   "execution_count": 4,
   "metadata": {},
   "outputs": [
    {
     "data": {
      "text/html": [
       "<div>\n",
       "<style>\n",
       "    .dataframe thead tr:only-child th {\n",
       "        text-align: right;\n",
       "    }\n",
       "\n",
       "    .dataframe thead th {\n",
       "        text-align: left;\n",
       "    }\n",
       "\n",
       "    .dataframe tbody tr th {\n",
       "        vertical-align: top;\n",
       "    }\n",
       "</style>\n",
       "<table border=\"1\" class=\"dataframe\">\n",
       "  <thead>\n",
       "    <tr style=\"text-align: right;\">\n",
       "      <th></th>\n",
       "      <th>Market</th>\n",
       "      <th>Day</th>\n",
       "      <th>x0</th>\n",
       "      <th>x1</th>\n",
       "      <th>x2</th>\n",
       "      <th>x3A</th>\n",
       "      <th>x3B</th>\n",
       "      <th>x3C</th>\n",
       "      <th>x3D</th>\n",
       "      <th>x3E</th>\n",
       "      <th>x4</th>\n",
       "      <th>x5</th>\n",
       "      <th>x6</th>\n",
       "      <th>y</th>\n",
       "      <th>Weight</th>\n",
       "    </tr>\n",
       "    <tr>\n",
       "      <th>Stock</th>\n",
       "      <th></th>\n",
       "      <th></th>\n",
       "      <th></th>\n",
       "      <th></th>\n",
       "      <th></th>\n",
       "      <th></th>\n",
       "      <th></th>\n",
       "      <th></th>\n",
       "      <th></th>\n",
       "      <th></th>\n",
       "      <th></th>\n",
       "      <th></th>\n",
       "      <th></th>\n",
       "      <th></th>\n",
       "      <th></th>\n",
       "    </tr>\n",
       "  </thead>\n",
       "  <tbody>\n",
       "    <tr>\n",
       "      <th>0</th>\n",
       "      <td>137</td>\n",
       "      <td>137</td>\n",
       "      <td>137</td>\n",
       "      <td>137</td>\n",
       "      <td>137</td>\n",
       "      <td>137</td>\n",
       "      <td>137</td>\n",
       "      <td>137</td>\n",
       "      <td>137</td>\n",
       "      <td>137</td>\n",
       "      <td>137</td>\n",
       "      <td>137</td>\n",
       "      <td>137</td>\n",
       "      <td>137</td>\n",
       "      <td>137</td>\n",
       "    </tr>\n",
       "    <tr>\n",
       "      <th>1</th>\n",
       "      <td>44</td>\n",
       "      <td>44</td>\n",
       "      <td>44</td>\n",
       "      <td>44</td>\n",
       "      <td>44</td>\n",
       "      <td>44</td>\n",
       "      <td>44</td>\n",
       "      <td>44</td>\n",
       "      <td>44</td>\n",
       "      <td>44</td>\n",
       "      <td>44</td>\n",
       "      <td>44</td>\n",
       "      <td>44</td>\n",
       "      <td>44</td>\n",
       "      <td>44</td>\n",
       "    </tr>\n",
       "    <tr>\n",
       "      <th>2</th>\n",
       "      <td>251</td>\n",
       "      <td>251</td>\n",
       "      <td>251</td>\n",
       "      <td>251</td>\n",
       "      <td>251</td>\n",
       "      <td>251</td>\n",
       "      <td>251</td>\n",
       "      <td>251</td>\n",
       "      <td>251</td>\n",
       "      <td>251</td>\n",
       "      <td>251</td>\n",
       "      <td>251</td>\n",
       "      <td>251</td>\n",
       "      <td>251</td>\n",
       "      <td>251</td>\n",
       "    </tr>\n",
       "    <tr>\n",
       "      <th>3</th>\n",
       "      <td>255</td>\n",
       "      <td>255</td>\n",
       "      <td>255</td>\n",
       "      <td>255</td>\n",
       "      <td>255</td>\n",
       "      <td>255</td>\n",
       "      <td>255</td>\n",
       "      <td>255</td>\n",
       "      <td>255</td>\n",
       "      <td>255</td>\n",
       "      <td>255</td>\n",
       "      <td>255</td>\n",
       "      <td>255</td>\n",
       "      <td>255</td>\n",
       "      <td>255</td>\n",
       "    </tr>\n",
       "    <tr>\n",
       "      <th>4</th>\n",
       "      <td>247</td>\n",
       "      <td>247</td>\n",
       "      <td>247</td>\n",
       "      <td>247</td>\n",
       "      <td>247</td>\n",
       "      <td>247</td>\n",
       "      <td>247</td>\n",
       "      <td>247</td>\n",
       "      <td>247</td>\n",
       "      <td>247</td>\n",
       "      <td>247</td>\n",
       "      <td>247</td>\n",
       "      <td>247</td>\n",
       "      <td>247</td>\n",
       "      <td>247</td>\n",
       "    </tr>\n",
       "  </tbody>\n",
       "</table>\n",
       "</div>"
      ],
      "text/plain": [
       "       Market  Day   x0   x1   x2  x3A  x3B  x3C  x3D  x3E   x4   x5   x6  \\\n",
       "Stock                                                                       \n",
       "0         137  137  137  137  137  137  137  137  137  137  137  137  137   \n",
       "1          44   44   44   44   44   44   44   44   44   44   44   44   44   \n",
       "2         251  251  251  251  251  251  251  251  251  251  251  251  251   \n",
       "3         255  255  255  255  255  255  255  255  255  255  255  255  255   \n",
       "4         247  247  247  247  247  247  247  247  247  247  247  247  247   \n",
       "\n",
       "         y  Weight  \n",
       "Stock               \n",
       "0      137     137  \n",
       "1       44      44  \n",
       "2      251     251  \n",
       "3      255     255  \n",
       "4      247     247  "
      ]
     },
     "execution_count": 4,
     "metadata": {},
     "output_type": "execute_result"
    }
   ],
   "source": [
    "sdf = df.groupby('Stock')\n",
    "sdf.count().head()"
   ]
  },
  {
   "cell_type": "code",
   "execution_count": 5,
   "metadata": {},
   "outputs": [
    {
     "data": {
      "text/html": [
       "<div>\n",
       "<style>\n",
       "    .dataframe thead tr:only-child th {\n",
       "        text-align: right;\n",
       "    }\n",
       "\n",
       "    .dataframe thead th {\n",
       "        text-align: left;\n",
       "    }\n",
       "\n",
       "    .dataframe tbody tr th {\n",
       "        vertical-align: top;\n",
       "    }\n",
       "</style>\n",
       "<table border=\"1\" class=\"dataframe\">\n",
       "  <thead>\n",
       "    <tr style=\"text-align: right;\">\n",
       "      <th></th>\n",
       "      <th>Day</th>\n",
       "      <th>Market</th>\n",
       "      <th>Weight</th>\n",
       "      <th>x0</th>\n",
       "      <th>x1</th>\n",
       "      <th>x2</th>\n",
       "      <th>x3A</th>\n",
       "      <th>x3B</th>\n",
       "      <th>x3C</th>\n",
       "      <th>x3D</th>\n",
       "      <th>x3E</th>\n",
       "      <th>x4</th>\n",
       "      <th>x5</th>\n",
       "      <th>x6</th>\n",
       "      <th>y</th>\n",
       "    </tr>\n",
       "    <tr>\n",
       "      <th>Index</th>\n",
       "      <th></th>\n",
       "      <th></th>\n",
       "      <th></th>\n",
       "      <th></th>\n",
       "      <th></th>\n",
       "      <th></th>\n",
       "      <th></th>\n",
       "      <th></th>\n",
       "      <th></th>\n",
       "      <th></th>\n",
       "      <th></th>\n",
       "      <th></th>\n",
       "      <th></th>\n",
       "      <th></th>\n",
       "      <th></th>\n",
       "    </tr>\n",
       "  </thead>\n",
       "  <tbody>\n",
       "    <tr>\n",
       "      <th>0</th>\n",
       "      <td>0.0</td>\n",
       "      <td>0.0</td>\n",
       "      <td>0.0</td>\n",
       "      <td>0.0</td>\n",
       "      <td>0.0</td>\n",
       "      <td>0.0</td>\n",
       "      <td>0.0</td>\n",
       "      <td>0.0</td>\n",
       "      <td>0.0</td>\n",
       "      <td>0.0</td>\n",
       "      <td>0.0</td>\n",
       "      <td>0.0</td>\n",
       "      <td>0.0</td>\n",
       "      <td>0.0</td>\n",
       "      <td>0.0</td>\n",
       "    </tr>\n",
       "    <tr>\n",
       "      <th>1</th>\n",
       "      <td>0.0</td>\n",
       "      <td>0.0</td>\n",
       "      <td>0.0</td>\n",
       "      <td>0.0</td>\n",
       "      <td>0.0</td>\n",
       "      <td>0.0</td>\n",
       "      <td>0.0</td>\n",
       "      <td>0.0</td>\n",
       "      <td>0.0</td>\n",
       "      <td>0.0</td>\n",
       "      <td>0.0</td>\n",
       "      <td>0.0</td>\n",
       "      <td>0.0</td>\n",
       "      <td>0.0</td>\n",
       "      <td>0.0</td>\n",
       "    </tr>\n",
       "    <tr>\n",
       "      <th>2</th>\n",
       "      <td>0.0</td>\n",
       "      <td>0.0</td>\n",
       "      <td>0.0</td>\n",
       "      <td>0.0</td>\n",
       "      <td>0.0</td>\n",
       "      <td>0.0</td>\n",
       "      <td>0.0</td>\n",
       "      <td>0.0</td>\n",
       "      <td>0.0</td>\n",
       "      <td>0.0</td>\n",
       "      <td>0.0</td>\n",
       "      <td>0.0</td>\n",
       "      <td>0.0</td>\n",
       "      <td>0.0</td>\n",
       "      <td>0.0</td>\n",
       "    </tr>\n",
       "    <tr>\n",
       "      <th>3</th>\n",
       "      <td>0.0</td>\n",
       "      <td>0.0</td>\n",
       "      <td>0.0</td>\n",
       "      <td>0.0</td>\n",
       "      <td>0.0</td>\n",
       "      <td>0.0</td>\n",
       "      <td>0.0</td>\n",
       "      <td>0.0</td>\n",
       "      <td>0.0</td>\n",
       "      <td>0.0</td>\n",
       "      <td>0.0</td>\n",
       "      <td>0.0</td>\n",
       "      <td>0.0</td>\n",
       "      <td>0.0</td>\n",
       "      <td>0.0</td>\n",
       "    </tr>\n",
       "    <tr>\n",
       "      <th>4</th>\n",
       "      <td>0.0</td>\n",
       "      <td>0.0</td>\n",
       "      <td>0.0</td>\n",
       "      <td>0.0</td>\n",
       "      <td>0.0</td>\n",
       "      <td>0.0</td>\n",
       "      <td>0.0</td>\n",
       "      <td>0.0</td>\n",
       "      <td>0.0</td>\n",
       "      <td>0.0</td>\n",
       "      <td>0.0</td>\n",
       "      <td>0.0</td>\n",
       "      <td>0.0</td>\n",
       "      <td>0.0</td>\n",
       "      <td>0.0</td>\n",
       "    </tr>\n",
       "  </tbody>\n",
       "</table>\n",
       "</div>"
      ],
      "text/plain": [
       "       Day  Market  Weight   x0   x1   x2  x3A  x3B  x3C  x3D  x3E   x4   x5  \\\n",
       "Index                                                                          \n",
       "0      0.0     0.0     0.0  0.0  0.0  0.0  0.0  0.0  0.0  0.0  0.0  0.0  0.0   \n",
       "1      0.0     0.0     0.0  0.0  0.0  0.0  0.0  0.0  0.0  0.0  0.0  0.0  0.0   \n",
       "2      0.0     0.0     0.0  0.0  0.0  0.0  0.0  0.0  0.0  0.0  0.0  0.0  0.0   \n",
       "3      0.0     0.0     0.0  0.0  0.0  0.0  0.0  0.0  0.0  0.0  0.0  0.0  0.0   \n",
       "4      0.0     0.0     0.0  0.0  0.0  0.0  0.0  0.0  0.0  0.0  0.0  0.0  0.0   \n",
       "\n",
       "        x6    y  \n",
       "Index            \n",
       "0      0.0  0.0  \n",
       "1      0.0  0.0  \n",
       "2      0.0  0.0  \n",
       "3      0.0  0.0  \n",
       "4      0.0  0.0  "
      ]
     },
     "execution_count": 5,
     "metadata": {},
     "output_type": "execute_result"
    }
   ],
   "source": [
    "sdf = sdf.shift()\n",
    "sdf.fillna(0, inplace=True)\n",
    "sdf.head()"
   ]
  },
  {
   "cell_type": "code",
   "execution_count": 6,
   "metadata": {},
   "outputs": [
    {
     "name": "stdout",
     "output_type": "stream",
     "text": [
      "        x0   x1   x2  x3A  x3B  x3C  x3D  x3E   x4   x5   x6\n",
      "Index                                                       \n",
      "0      0.0  0.0  0.0  0.0  0.0  0.0  0.0  0.0  0.0  0.0  0.0\n",
      "1      0.0  0.0  0.0  0.0  0.0  0.0  0.0  0.0  0.0  0.0  0.0\n",
      "2      0.0  0.0  0.0  0.0  0.0  0.0  0.0  0.0  0.0  0.0  0.0\n",
      "3      0.0  0.0  0.0  0.0  0.0  0.0  0.0  0.0  0.0  0.0  0.0\n",
      "4      0.0  0.0  0.0  0.0  0.0  0.0  0.0  0.0  0.0  0.0  0.0\n"
     ]
    }
   ],
   "source": [
    "shifted_X = sdf.loc[:, 'x0':'x6']\n",
    "print(shifted_X.head())\n",
    "shifted_X = shifted_X.values"
   ]
  },
  {
   "cell_type": "code",
   "execution_count": 7,
   "metadata": {},
   "outputs": [
    {
     "data": {
      "text/html": [
       "<div>\n",
       "<style>\n",
       "    .dataframe thead tr:only-child th {\n",
       "        text-align: right;\n",
       "    }\n",
       "\n",
       "    .dataframe thead th {\n",
       "        text-align: left;\n",
       "    }\n",
       "\n",
       "    .dataframe tbody tr th {\n",
       "        vertical-align: top;\n",
       "    }\n",
       "</style>\n",
       "<table border=\"1\" class=\"dataframe\">\n",
       "  <thead>\n",
       "    <tr style=\"text-align: right;\">\n",
       "      <th></th>\n",
       "      <th>x0</th>\n",
       "      <th>x1</th>\n",
       "      <th>x2</th>\n",
       "      <th>x3A</th>\n",
       "      <th>x3B</th>\n",
       "      <th>x3C</th>\n",
       "      <th>x3D</th>\n",
       "      <th>x3E</th>\n",
       "      <th>x4</th>\n",
       "      <th>x5</th>\n",
       "      <th>x6</th>\n",
       "    </tr>\n",
       "    <tr>\n",
       "      <th>Index</th>\n",
       "      <th></th>\n",
       "      <th></th>\n",
       "      <th></th>\n",
       "      <th></th>\n",
       "      <th></th>\n",
       "      <th></th>\n",
       "      <th></th>\n",
       "      <th></th>\n",
       "      <th></th>\n",
       "      <th></th>\n",
       "      <th></th>\n",
       "    </tr>\n",
       "  </thead>\n",
       "  <tbody>\n",
       "    <tr>\n",
       "      <th>0</th>\n",
       "      <td>0.002696</td>\n",
       "      <td>0.530040</td>\n",
       "      <td>0.400810</td>\n",
       "      <td>1.300048e-06</td>\n",
       "      <td>4.639533e-06</td>\n",
       "      <td>1.073594e-05</td>\n",
       "      <td>2.180516e-05</td>\n",
       "      <td>4.416943e-05</td>\n",
       "      <td>0.002212</td>\n",
       "      <td>6.214737e-07</td>\n",
       "      <td>200.000000</td>\n",
       "    </tr>\n",
       "    <tr>\n",
       "      <th>1</th>\n",
       "      <td>0.081093</td>\n",
       "      <td>1.366218</td>\n",
       "      <td>1.325157</td>\n",
       "      <td>1.656861e-05</td>\n",
       "      <td>3.024668e-05</td>\n",
       "      <td>5.261872e-05</td>\n",
       "      <td>4.193762e-05</td>\n",
       "      <td>4.193762e-05</td>\n",
       "      <td>0.010932</td>\n",
       "      <td>3.414868e-05</td>\n",
       "      <td>300.000000</td>\n",
       "    </tr>\n",
       "    <tr>\n",
       "      <th>2</th>\n",
       "      <td>0.009561</td>\n",
       "      <td>0.464871</td>\n",
       "      <td>0.328008</td>\n",
       "      <td>6.500872e-08</td>\n",
       "      <td>2.323204e-07</td>\n",
       "      <td>5.182686e-07</td>\n",
       "      <td>1.080834e-06</td>\n",
       "      <td>2.030442e-06</td>\n",
       "      <td>0.000306</td>\n",
       "      <td>4.079460e-08</td>\n",
       "      <td>159.692076</td>\n",
       "    </tr>\n",
       "    <tr>\n",
       "      <th>3</th>\n",
       "      <td>0.045300</td>\n",
       "      <td>0.608222</td>\n",
       "      <td>0.456662</td>\n",
       "      <td>1.928694e-08</td>\n",
       "      <td>6.495275e-08</td>\n",
       "      <td>1.338509e-07</td>\n",
       "      <td>2.644214e-07</td>\n",
       "      <td>6.980798e-07</td>\n",
       "      <td>0.000205</td>\n",
       "      <td>9.502066e-09</td>\n",
       "      <td>212.160378</td>\n",
       "    </tr>\n",
       "    <tr>\n",
       "      <th>4</th>\n",
       "      <td>0.001605</td>\n",
       "      <td>0.476718</td>\n",
       "      <td>0.205069</td>\n",
       "      <td>6.759866e-07</td>\n",
       "      <td>2.638783e-06</td>\n",
       "      <td>6.424519e-06</td>\n",
       "      <td>1.189923e-05</td>\n",
       "      <td>2.064450e-05</td>\n",
       "      <td>0.001525</td>\n",
       "      <td>3.428403e-07</td>\n",
       "      <td>153.724351</td>\n",
       "    </tr>\n",
       "  </tbody>\n",
       "</table>\n",
       "</div>"
      ],
      "text/plain": [
       "             x0        x1        x2           x3A           x3B           x3C  \\\n",
       "Index                                                                           \n",
       "0      0.002696  0.530040  0.400810  1.300048e-06  4.639533e-06  1.073594e-05   \n",
       "1      0.081093  1.366218  1.325157  1.656861e-05  3.024668e-05  5.261872e-05   \n",
       "2      0.009561  0.464871  0.328008  6.500872e-08  2.323204e-07  5.182686e-07   \n",
       "3      0.045300  0.608222  0.456662  1.928694e-08  6.495275e-08  1.338509e-07   \n",
       "4      0.001605  0.476718  0.205069  6.759866e-07  2.638783e-06  6.424519e-06   \n",
       "\n",
       "                x3D           x3E        x4            x5          x6  \n",
       "Index                                                                  \n",
       "0      2.180516e-05  4.416943e-05  0.002212  6.214737e-07  200.000000  \n",
       "1      4.193762e-05  4.193762e-05  0.010932  3.414868e-05  300.000000  \n",
       "2      1.080834e-06  2.030442e-06  0.000306  4.079460e-08  159.692076  \n",
       "3      2.644214e-07  6.980798e-07  0.000205  9.502066e-09  212.160378  \n",
       "4      1.189923e-05  2.064450e-05  0.001525  3.428403e-07  153.724351  "
      ]
     },
     "execution_count": 7,
     "metadata": {},
     "output_type": "execute_result"
    }
   ],
   "source": [
    "df.fillna(0, inplace=True)\n",
    "X, y = df.loc[:, 'x0':'x6'], df.loc[:,'y']\n",
    "X.head()"
   ]
  },
  {
   "cell_type": "code",
   "execution_count": 8,
   "metadata": {
    "collapsed": true
   },
   "outputs": [],
   "source": [
    "X, y = X.values, y.values"
   ]
  },
  {
   "cell_type": "code",
   "execution_count": 9,
   "metadata": {},
   "outputs": [
    {
     "data": {
      "text/plain": [
       "(623817, 11)"
      ]
     },
     "execution_count": 9,
     "metadata": {},
     "output_type": "execute_result"
    }
   ],
   "source": [
    "diff_X = np.divide(X - shifted_X, X, out=np.zeros_like(X), where=X!=0)\n",
    "diff_X.shape"
   ]
  },
  {
   "cell_type": "code",
   "execution_count": 10,
   "metadata": {},
   "outputs": [
    {
     "name": "stdout",
     "output_type": "stream",
     "text": [
      "(623817, 11) + (623817, 11) = (623817, 22)\n"
     ]
    }
   ],
   "source": [
    "Xx = np.concatenate((X, diff_X), axis=1)\n",
    "print(\"%s + %s = %s\" % (X.shape, diff_X.shape, Xx.shape))"
   ]
  },
  {
   "cell_type": "code",
   "execution_count": 11,
   "metadata": {},
   "outputs": [
    {
     "name": "stdout",
     "output_type": "stream",
     "text": [
      "(array([], dtype=int64), array([], dtype=int64))\n",
      "(array([], dtype=int64),)\n",
      "(array([], dtype=int64),)\n"
     ]
    }
   ],
   "source": [
    "X = Xx\n",
    "print(np.where(np.isnan(X)))\n",
    "print(np.where(y > 1))\n",
    "print(np.where(y < -1))"
   ]
  },
  {
   "cell_type": "code",
   "execution_count": 12,
   "metadata": {},
   "outputs": [
    {
     "name": "stdout",
     "output_type": "stream",
     "text": [
      "[4.99827504e+06 2.94626390e+03 6.77912473e+02 2.83150876e-02\n",
      " 6.51416194e-02 1.09440456e-01 2.06560350e-01 3.61169254e-01\n",
      " 1.02200000e-01 3.58925753e-02 7.34914405e+05 1.00000000e+00\n",
      " 1.00000000e+00 1.00000000e+00 1.00000000e+00 1.00000000e+00\n",
      " 1.00000000e+00 1.00000000e+00 1.00000000e+00 1.00000000e+00\n",
      " 1.00000000e+00 1.00000000e+00]\n"
     ]
    }
   ],
   "source": [
    "from sklearn.preprocessing import MinMaxScaler\n",
    "scaler = MinMaxScaler(feature_range=(-1, 1))\n",
    "scaler.fit(X)\n",
    "print(scaler.data_max_)\n",
    "X_std = scaler.transform(X)"
   ]
  },
  {
   "cell_type": "code",
   "execution_count": 13,
   "metadata": {},
   "outputs": [
    {
     "name": "stdout",
     "output_type": "stream",
     "text": [
      "(623817, 22)\n",
      "(623817, 22)\n"
     ]
    }
   ],
   "source": [
    "print(X.shape)\n",
    "print(X_std.shape)\n",
    "X_train = X_std.reshape(X_std.shape[0], 1, X_std.shape[1])"
   ]
  },
  {
   "cell_type": "code",
   "execution_count": 14,
   "metadata": {},
   "outputs": [
    {
     "name": "stderr",
     "output_type": "stream",
     "text": [
      "/home/lambda/anaconda3/lib/python3.6/site-packages/h5py/__init__.py:34: FutureWarning: Conversion of the second argument of issubdtype from `float` to `np.floating` is deprecated. In future, it will be treated as `np.float64 == np.dtype(float).type`.\n",
      "  from ._conv import register_converters as _register_converters\n",
      "Using TensorFlow backend.\n"
     ]
    }
   ],
   "source": [
    "from keras.models import Sequential"
   ]
  },
  {
   "cell_type": "code",
   "execution_count": 46,
   "metadata": {
    "collapsed": true
   },
   "outputs": [],
   "source": [
    "from keras.layers import Dense, Activation, LSTM, Dropout, LeakyReLU"
   ]
  },
  {
   "cell_type": "code",
   "execution_count": 47,
   "metadata": {
    "collapsed": true
   },
   "outputs": [],
   "source": [
    "model = Sequential()\n",
    "batch_size = 128"
   ]
  },
  {
   "cell_type": "code",
   "execution_count": 48,
   "metadata": {},
   "outputs": [
    {
     "name": "stdout",
     "output_type": "stream",
     "text": [
      "(623744, 1, 22)\n",
      "(623744,)\n"
     ]
    }
   ],
   "source": [
    "_ = X_train.shape[0] // batch_size * batch_size\n",
    "X_train = X_train[:_, :, :]\n",
    "y_train = y[:_]\n",
    "print(X_train.shape)\n",
    "print(y_train.shape)"
   ]
  },
  {
   "cell_type": "code",
   "execution_count": 49,
   "metadata": {
    "collapsed": true
   },
   "outputs": [],
   "source": [
    "model.add(LSTM(32, input_shape=(X_train.shape[1], X_train.shape[2]), activation='tanh', return_sequences=True))\n",
    "model.add(Dropout(0.2))\n",
    "model.add(LSTM(64, return_sequences=False))\n",
    "model.add(Dropout(0.2))"
   ]
  },
  {
   "cell_type": "code",
   "execution_count": 50,
   "metadata": {
    "collapsed": true
   },
   "outputs": [],
   "source": [
    "model.add(Dense(1))\n",
    "model.add(Activation('tanh'))"
   ]
  },
  {
   "cell_type": "code",
   "execution_count": 51,
   "metadata": {
    "collapsed": true
   },
   "outputs": [],
   "source": [
    "# lets use rmse\n",
    "from keras import backend as K\n",
    "\n",
    "def root_mean_squared_error(y_true, y_pred):\n",
    "        return K.sqrt(K.mean(K.square(y_pred - y_true), axis=-1)) "
   ]
  },
  {
   "cell_type": "code",
   "execution_count": 52,
   "metadata": {
    "collapsed": true
   },
   "outputs": [],
   "source": [
    "model.compile(loss=root_mean_squared_error, optimizer='adam')"
   ]
  },
  {
   "cell_type": "code",
   "execution_count": 53,
   "metadata": {
    "scrolled": true
   },
   "outputs": [
    {
     "name": "stdout",
     "output_type": "stream",
     "text": [
      "Epoch 1/10\n",
      "623744/623744 [==============================] - 12s 19us/step - loss: 5.8547e-04\n",
      "Epoch 2/10\n",
      "623744/623744 [==============================] - 11s 18us/step - loss: 4.3876e-04\n",
      "Epoch 3/10\n",
      "623744/623744 [==============================] - 12s 19us/step - loss: 4.2832e-04\n",
      "Epoch 4/10\n",
      "623744/623744 [==============================] - 12s 19us/step - loss: 4.2681e-04\n",
      "Epoch 5/10\n",
      "623744/623744 [==============================] - 11s 18us/step - loss: 4.2692e-04\n",
      "Epoch 6/10\n",
      "623744/623744 [==============================] - 11s 17us/step - loss: 4.2671e-04\n",
      "Epoch 7/10\n",
      "623744/623744 [==============================] - 11s 17us/step - loss: 4.2751e-04\n",
      "Epoch 8/10\n",
      "623744/623744 [==============================] - 11s 17us/step - loss: 4.2686e-04\n",
      "Epoch 9/10\n",
      "623744/623744 [==============================] - 11s 18us/step - loss: 4.2605e-04\n",
      "Epoch 10/10\n",
      "623744/623744 [==============================] - 11s 17us/step - loss: 4.2629e-04\n"
     ]
    },
    {
     "data": {
      "text/plain": [
       "<keras.callbacks.History at 0x7fee792019e8>"
      ]
     },
     "execution_count": 53,
     "metadata": {},
     "output_type": "execute_result"
    }
   ],
   "source": [
    "model.fit(X_train, y_train, epochs=10, batch_size=batch_size * 2, shuffle=True)"
   ]
  },
  {
   "cell_type": "code",
   "execution_count": 54,
   "metadata": {
    "collapsed": true
   },
   "outputs": [],
   "source": [
    "# We can see that training has had its effect short term. Let's save a model and continue training\n",
    "model.save('d_lstm_10.hd5')"
   ]
  },
  {
   "cell_type": "code",
   "execution_count": 70,
   "metadata": {
    "scrolled": true
   },
   "outputs": [
    {
     "name": "stdout",
     "output_type": "stream",
     "text": [
      "Train on 467808 samples, validate on 155936 samples\n",
      "Epoch 1/10\n",
      "467808/467808 [==============================] - 10s 22us/step - loss: 4.3624e-04 - val_loss: 3.9695e-04\n",
      "Epoch 2/10\n",
      "467808/467808 [==============================] - 9s 20us/step - loss: 4.3617e-04 - val_loss: 4.1959e-04\n",
      "Epoch 3/10\n",
      "467808/467808 [==============================] - 9s 20us/step - loss: 4.3663e-04 - val_loss: 3.8310e-04\n",
      "Epoch 4/10\n",
      "467808/467808 [==============================] - 9s 20us/step - loss: 4.3584e-04 - val_loss: 3.8973e-04\n",
      "Epoch 5/10\n",
      "467808/467808 [==============================] - 9s 20us/step - loss: 4.3558e-04 - val_loss: 3.8986e-04\n",
      "Epoch 6/10\n",
      "467808/467808 [==============================] - 9s 19us/step - loss: 4.3686e-04 - val_loss: 3.9465e-04\n",
      "Epoch 7/10\n",
      "467808/467808 [==============================] - 9s 20us/step - loss: 4.3544e-04 - val_loss: 3.9299e-04\n",
      "Epoch 8/10\n",
      "467808/467808 [==============================] - 9s 20us/step - loss: 4.3613e-04 - val_loss: 3.9952e-04\n",
      "Epoch 9/10\n",
      "467808/467808 [==============================] - 9s 19us/step - loss: 4.3600e-04 - val_loss: 3.8450e-04\n",
      "Epoch 10/10\n",
      "467808/467808 [==============================] - 9s 19us/step - loss: 4.3544e-04 - val_loss: 3.8389e-04\n"
     ]
    },
    {
     "data": {
      "text/plain": [
       "<keras.callbacks.History at 0x7fee48b148d0>"
      ]
     },
     "execution_count": 70,
     "metadata": {},
     "output_type": "execute_result"
    }
   ],
   "source": [
    "model2 = load_model('d_lstm_10.hd5')\n",
    "# this time lets train for 10 more epochs but quadruple batch size so im not sitting here forever\n",
    "model2.fit(X_train, y_train, epochs=10, batch_size=batch_size * 2, shuffle=True, validation_split=0.25)"
   ]
  },
  {
   "cell_type": "code",
   "execution_count": 71,
   "metadata": {
    "collapsed": true
   },
   "outputs": [],
   "source": [
    "model.save('e_lstm_20.hd5')"
   ]
  },
  {
   "cell_type": "code",
   "execution_count": 61,
   "metadata": {
    "collapsed": true
   },
   "outputs": [],
   "source": [
    "from keras.models import load_model\n",
    "import keras.losses\n",
    "keras.losses.root_mean_squared_error = root_mean_squared_error\n",
    "model_20 = model\n",
    "model_10 = load_model('d_lstm_10.hd5')\n",
    "model_old = load_model('b_lstm_20.hd5')"
   ]
  },
  {
   "cell_type": "code",
   "execution_count": 85,
   "metadata": {
    "collapsed": true
   },
   "outputs": [],
   "source": [
    "def test_model(_model, examples=10000, skip=3000):\n",
    "    yhat = _model.predict(X_train[skip:skip+examples], batch_size=32)\n",
    "    expected = list(y[skip:examples+skip])\n",
    "    pred = [l[0] for l in yhat]\n",
    "    diff = np.asarray(pred) - np.asarray(expected)\n",
    "    print(diff.shape)\n",
    "    err = diff / np.asarray(expected)\n",
    "    err = err * 100\n",
    "    buckets = [1, 5, 10, 25, 50, 100, 10000]\n",
    "    for bucket in buckets:\n",
    "        print(\"%.1f percent of data have err < %d percent\" % (np.where(err < bucket)[0].size / err.size * 100, bucket))"
   ]
  },
  {
   "cell_type": "code",
   "execution_count": 86,
   "metadata": {},
   "outputs": [
    {
     "name": "stdout",
     "output_type": "stream",
     "text": [
      "(10000,)\n",
      "91.7 percent of data have err < 1 percent\n",
      "91.9 percent of data have err < 5 percent\n",
      "92.2 percent of data have err < 10 percent\n",
      "92.8 percent of data have err < 25 percent\n",
      "93.7 percent of data have err < 50 percent\n",
      "94.7 percent of data have err < 100 percent\n",
      "99.9 percent of data have err < 10000 percent\n"
     ]
    }
   ],
   "source": [
    "test_model(model)"
   ]
  },
  {
   "cell_type": "code",
   "execution_count": 87,
   "metadata": {},
   "outputs": [
    {
     "name": "stdout",
     "output_type": "stream",
     "text": [
      "(10000,)\n",
      "91.7 percent of data have err < 1 percent\n",
      "91.9 percent of data have err < 5 percent\n",
      "92.2 percent of data have err < 10 percent\n",
      "92.8 percent of data have err < 25 percent\n",
      "93.6 percent of data have err < 50 percent\n",
      "94.7 percent of data have err < 100 percent\n",
      "99.8 percent of data have err < 10000 percent\n",
      "(10000,)\n",
      "91.7 percent of data have err < 1 percent\n",
      "91.9 percent of data have err < 5 percent\n",
      "92.2 percent of data have err < 10 percent\n",
      "92.8 percent of data have err < 25 percent\n",
      "93.7 percent of data have err < 50 percent\n",
      "94.7 percent of data have err < 100 percent\n",
      "99.9 percent of data have err < 10000 percent\n",
      "(10000,)\n",
      "97.5 percent of data have err < 1 percent\n",
      "97.7 percent of data have err < 5 percent\n",
      "97.8 percent of data have err < 10 percent\n",
      "98.1 percent of data have err < 25 percent\n",
      "98.5 percent of data have err < 50 percent\n",
      "98.8 percent of data have err < 100 percent\n",
      "100.0 percent of data have err < 10000 percent\n"
     ]
    }
   ],
   "source": [
    "test_model(model_10)\n",
    "test_model(model)\n",
    "test_model(model_old)\n",
    "# model_10 has clearly gotten better rating"
   ]
  },
  {
   "cell_type": "code",
   "execution_count": 89,
   "metadata": {},
   "outputs": [
    {
     "name": "stdout",
     "output_type": "stream",
     "text": [
      "       Market  Day  Stock        x0        x1        x2           x3A  \\\n",
      "Index                                                                   \n",
      "0           1   13    363  0.000842  0.436594  0.477848  1.535381e-06   \n",
      "1           1   13   1223  0.020800  0.636143  0.670798  5.204133e-06   \n",
      "2           1   13   1372  0.068580  0.478891  0.481816  5.433730e-08   \n",
      "3           1   13   1942  0.011986  0.463201  0.294900  1.103215e-08   \n",
      "4           1   13   2712  0.000164  0.549980  0.352332  4.494670e-07   \n",
      "\n",
      "                x3B           x3C           x3D           x3E        x4  \\\n",
      "Index                                                                     \n",
      "0      4.353950e-06  7.718616e-06  1.632886e-05  3.267851e-05  0.001661   \n",
      "1      9.546012e-06  1.575258e-05  2.804666e-05  1.082500e-05  0.002104   \n",
      "2      1.733539e-07  3.866963e-07  8.520664e-07  2.103176e-06  0.000222   \n",
      "3      3.555558e-08  7.280376e-08  1.364231e-07  3.155050e-07  0.000141   \n",
      "4      8.503405e-07  1.222847e-06  1.901114e-06  4.048304e-06  0.001235   \n",
      "\n",
      "                 x5          x6  \n",
      "Index                            \n",
      "0      9.724611e-07  112.968475  \n",
      "1      2.146299e-05  100.000000  \n",
      "2      3.085296e-08  188.335508  \n",
      "3      1.678216e-08  212.123913  \n",
      "4      4.595200e-07  124.024977  \n",
      "       Market  Day   x0   x1   x2  x3A  x3B  x3C  x3D  x3E   x4   x5   x6\n",
      "Stock                                                                    \n",
      "0         128  128  128  127  128  128  128  128  128  128  128  128  128\n",
      "1          46   46   46   46   46   46   46   46   46   46   46   46   46\n",
      "2         255  255  255  255  255  255  255  255  255  255  255  255  255\n",
      "3         255  255  255  255  255  255  255  255  255  255  255  255  255\n",
      "4         256  256  256  256  256  256  256  256  256  256  256  256  256\n",
      "       Day  Market   x0   x1   x2  x3A  x3B  x3C  x3D  x3E   x4   x5   x6\n",
      "Index                                                                    \n",
      "0      0.0     0.0  0.0  0.0  0.0  0.0  0.0  0.0  0.0  0.0  0.0  0.0  0.0\n",
      "1      0.0     0.0  0.0  0.0  0.0  0.0  0.0  0.0  0.0  0.0  0.0  0.0  0.0\n",
      "2      0.0     0.0  0.0  0.0  0.0  0.0  0.0  0.0  0.0  0.0  0.0  0.0  0.0\n",
      "3      0.0     0.0  0.0  0.0  0.0  0.0  0.0  0.0  0.0  0.0  0.0  0.0  0.0\n",
      "4      0.0     0.0  0.0  0.0  0.0  0.0  0.0  0.0  0.0  0.0  0.0  0.0  0.0\n",
      "        x0   x1   x2  x3A  x3B  x3C  x3D  x3E   x4   x5   x6\n",
      "Index                                                       \n",
      "0      0.0  0.0  0.0  0.0  0.0  0.0  0.0  0.0  0.0  0.0  0.0\n",
      "1      0.0  0.0  0.0  0.0  0.0  0.0  0.0  0.0  0.0  0.0  0.0\n",
      "2      0.0  0.0  0.0  0.0  0.0  0.0  0.0  0.0  0.0  0.0  0.0\n",
      "3      0.0  0.0  0.0  0.0  0.0  0.0  0.0  0.0  0.0  0.0  0.0\n",
      "4      0.0  0.0  0.0  0.0  0.0  0.0  0.0  0.0  0.0  0.0  0.0\n",
      "             x0        x1        x2           x3A           x3B           x3C  \\\n",
      "Index                                                                           \n",
      "0      0.000842  0.436594  0.477848  1.535381e-06  4.353950e-06  7.718616e-06   \n",
      "1      0.020800  0.636143  0.670798  5.204133e-06  9.546012e-06  1.575258e-05   \n",
      "2      0.068580  0.478891  0.481816  5.433730e-08  1.733539e-07  3.866963e-07   \n",
      "3      0.011986  0.463201  0.294900  1.103215e-08  3.555558e-08  7.280376e-08   \n",
      "4      0.000164  0.549980  0.352332  4.494670e-07  8.503405e-07  1.222847e-06   \n",
      "\n",
      "                x3D           x3E        x4            x5          x6  \n",
      "Index                                                                  \n",
      "0      1.632886e-05  3.267851e-05  0.001661  9.724611e-07  112.968475  \n",
      "1      2.804666e-05  1.082500e-05  0.002104  2.146299e-05  100.000000  \n",
      "2      8.520664e-07  2.103176e-06  0.000222  3.085296e-08  188.335508  \n",
      "3      1.364231e-07  3.155050e-07  0.000141  1.678216e-08  212.123913  \n",
      "4      1.901114e-06  4.048304e-06  0.001235  4.595200e-07  124.024977  \n",
      "(640430, 11)\n",
      "(640430, 11) + (640430, 11) = (640430, 22)\n",
      "(array([], dtype=int64), array([], dtype=int64))\n",
      "[2.49628695e+06 9.47911827e+02 1.58954825e+03 1.26154309e-02\n",
      " 1.03741408e-02 1.04813242e-02 2.58892453e-02 7.09883306e-02\n",
      " 2.00000000e-01 4.13184117e-02 5.23380512e+05 1.00000000e+00\n",
      " 1.00000000e+00 1.00000000e+00 1.00000000e+00 1.00000000e+00\n",
      " 1.00000000e+00 1.00000000e+00 1.00000000e+00 1.00000000e+00\n",
      " 1.00000000e+00 1.00000000e+00]\n",
      "(640430, 22)\n",
      "(640430, 22)\n",
      "(640430, 1)\n",
      "Index\n",
      "0   -0.000058\n",
      "1   -0.000045\n",
      "2   -0.000096\n",
      "3   -0.000098\n",
      "4   -0.000069\n",
      "Name: y, dtype: float32\n"
     ]
    }
   ],
   "source": [
    "# for now let's form a submission using this new shift technique\n",
    "tdf = pd.read_csv('test.csv', index_col=0)\n",
    "print(tdf.head())\n",
    "stdf = tdf.groupby('Stock')\n",
    "print(stdf.count().head())\n",
    "stdf = stdf.shift()\n",
    "stdf.fillna(0, inplace=True)\n",
    "print(stdf.head())\n",
    "st_X = stdf.loc[:, 'x0':'x6']\n",
    "print(st_X.head())\n",
    "st_X = st_X.values\n",
    "tdf.fillna(0, inplace=True)\n",
    "tX = tdf.loc[:, 'x0':'x6']\n",
    "print(tX.head())\n",
    "tX = tX.values\n",
    "dt_X = np.divide(tX - st_X, tX, out=np.zeros_like(tX), where=tX!=0)\n",
    "print(dt_X.shape)\n",
    "tXx = np.concatenate((tX, dt_X), axis=1)\n",
    "print(\"%s + %s = %s\" % (tX.shape, dt_X.shape, tXx.shape))\n",
    "tX = tXx\n",
    "print(np.where(np.isnan(tX)))\n",
    "scaler.fit(tX)\n",
    "print(scaler.data_max_)\n",
    "tX_std = scaler.transform(tX)\n",
    "print(tX.shape)\n",
    "print(tX_std.shape)\n",
    "tX = tX_std.reshape(tX_std.shape[0], 1, tX_std.shape[1])\n",
    "yhat = model.predict(tX, batch_size=32)\n",
    "print(yhat.shape)\n",
    "yp = pd.Series(yhat.reshape(yhat.shape[0])).rename('y')\n",
    "yp.index.name = 'Index'\n",
    "print(yp.head())\n",
    "yp.to_csv('e_lstm.csv', header=True)"
   ]
  },
  {
   "cell_type": "code",
   "execution_count": null,
   "metadata": {
    "collapsed": true
   },
   "outputs": [],
   "source": []
  }
 ],
 "metadata": {
  "kernelspec": {
   "display_name": "Python 3",
   "language": "python",
   "name": "python3"
  },
  "language_info": {
   "codemirror_mode": {
    "name": "ipython",
    "version": 3
   },
   "file_extension": ".py",
   "mimetype": "text/x-python",
   "name": "python",
   "nbconvert_exporter": "python",
   "pygments_lexer": "ipython3",
   "version": "3.6.3"
  }
 },
 "nbformat": 4,
 "nbformat_minor": 2
}
