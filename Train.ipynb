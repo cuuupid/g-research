{
 "cells": [
  {
   "cell_type": "code",
   "execution_count": 2,
   "metadata": {
    "collapsed": true
   },
   "outputs": [],
   "source": [
    "%matplotlib inline\n",
    "import numpy as np\n",
    "import pandas as pd\n",
    "import matplotlib.pyplot as plt"
   ]
  },
  {
   "cell_type": "code",
   "execution_count": 3,
   "metadata": {},
   "outputs": [
    {
     "data": {
      "text/html": [
       "<div>\n",
       "<style>\n",
       "    .dataframe thead tr:only-child th {\n",
       "        text-align: right;\n",
       "    }\n",
       "\n",
       "    .dataframe thead th {\n",
       "        text-align: left;\n",
       "    }\n",
       "\n",
       "    .dataframe tbody tr th {\n",
       "        vertical-align: top;\n",
       "    }\n",
       "</style>\n",
       "<table border=\"1\" class=\"dataframe\">\n",
       "  <thead>\n",
       "    <tr style=\"text-align: right;\">\n",
       "      <th></th>\n",
       "      <th>Market</th>\n",
       "      <th>Day</th>\n",
       "      <th>Stock</th>\n",
       "      <th>x0</th>\n",
       "      <th>x1</th>\n",
       "      <th>x2</th>\n",
       "      <th>x3A</th>\n",
       "      <th>x3B</th>\n",
       "      <th>x3C</th>\n",
       "      <th>x3D</th>\n",
       "      <th>x3E</th>\n",
       "      <th>x4</th>\n",
       "      <th>x5</th>\n",
       "      <th>x6</th>\n",
       "      <th>y</th>\n",
       "      <th>Weight</th>\n",
       "    </tr>\n",
       "    <tr>\n",
       "      <th>Index</th>\n",
       "      <th></th>\n",
       "      <th></th>\n",
       "      <th></th>\n",
       "      <th></th>\n",
       "      <th></th>\n",
       "      <th></th>\n",
       "      <th></th>\n",
       "      <th></th>\n",
       "      <th></th>\n",
       "      <th></th>\n",
       "      <th></th>\n",
       "      <th></th>\n",
       "      <th></th>\n",
       "      <th></th>\n",
       "      <th></th>\n",
       "      <th></th>\n",
       "    </tr>\n",
       "  </thead>\n",
       "  <tbody>\n",
       "    <tr>\n",
       "      <th>0</th>\n",
       "      <td>1</td>\n",
       "      <td>1</td>\n",
       "      <td>363</td>\n",
       "      <td>0.002696</td>\n",
       "      <td>0.530040</td>\n",
       "      <td>0.400810</td>\n",
       "      <td>1.300048e-06</td>\n",
       "      <td>4.639533e-06</td>\n",
       "      <td>1.073594e-05</td>\n",
       "      <td>2.180516e-05</td>\n",
       "      <td>4.416943e-05</td>\n",
       "      <td>0.002212</td>\n",
       "      <td>6.214737e-07</td>\n",
       "      <td>200.000000</td>\n",
       "      <td>-0.000196</td>\n",
       "      <td>1.533780</td>\n",
       "    </tr>\n",
       "    <tr>\n",
       "      <th>1</th>\n",
       "      <td>1</td>\n",
       "      <td>1</td>\n",
       "      <td>1223</td>\n",
       "      <td>0.081093</td>\n",
       "      <td>1.366218</td>\n",
       "      <td>1.325157</td>\n",
       "      <td>1.656861e-05</td>\n",
       "      <td>3.024668e-05</td>\n",
       "      <td>5.261872e-05</td>\n",
       "      <td>4.193762e-05</td>\n",
       "      <td>4.193762e-05</td>\n",
       "      <td>0.010932</td>\n",
       "      <td>3.414868e-05</td>\n",
       "      <td>300.000000</td>\n",
       "      <td>-0.003798</td>\n",
       "      <td>0.843604</td>\n",
       "    </tr>\n",
       "    <tr>\n",
       "      <th>2</th>\n",
       "      <td>1</td>\n",
       "      <td>1</td>\n",
       "      <td>1372</td>\n",
       "      <td>0.009561</td>\n",
       "      <td>0.464871</td>\n",
       "      <td>0.328008</td>\n",
       "      <td>6.500872e-08</td>\n",
       "      <td>2.323204e-07</td>\n",
       "      <td>5.182686e-07</td>\n",
       "      <td>1.080834e-06</td>\n",
       "      <td>2.030442e-06</td>\n",
       "      <td>0.000306</td>\n",
       "      <td>4.079460e-08</td>\n",
       "      <td>159.692076</td>\n",
       "      <td>-0.000003</td>\n",
       "      <td>29.824024</td>\n",
       "    </tr>\n",
       "    <tr>\n",
       "      <th>3</th>\n",
       "      <td>1</td>\n",
       "      <td>1</td>\n",
       "      <td>1942</td>\n",
       "      <td>0.045300</td>\n",
       "      <td>0.608222</td>\n",
       "      <td>0.456662</td>\n",
       "      <td>1.928694e-08</td>\n",
       "      <td>6.495275e-08</td>\n",
       "      <td>1.338509e-07</td>\n",
       "      <td>2.644214e-07</td>\n",
       "      <td>6.980798e-07</td>\n",
       "      <td>0.000205</td>\n",
       "      <td>9.502066e-09</td>\n",
       "      <td>212.160378</td>\n",
       "      <td>-0.000008</td>\n",
       "      <td>100.388668</td>\n",
       "    </tr>\n",
       "    <tr>\n",
       "      <th>4</th>\n",
       "      <td>1</td>\n",
       "      <td>1</td>\n",
       "      <td>2712</td>\n",
       "      <td>0.001605</td>\n",
       "      <td>0.476718</td>\n",
       "      <td>0.205069</td>\n",
       "      <td>6.759866e-07</td>\n",
       "      <td>2.638783e-06</td>\n",
       "      <td>6.424519e-06</td>\n",
       "      <td>1.189923e-05</td>\n",
       "      <td>2.064450e-05</td>\n",
       "      <td>0.001525</td>\n",
       "      <td>3.428403e-07</td>\n",
       "      <td>153.724351</td>\n",
       "      <td>0.000065</td>\n",
       "      <td>5.950714</td>\n",
       "    </tr>\n",
       "  </tbody>\n",
       "</table>\n",
       "</div>"
      ],
      "text/plain": [
       "       Market  Day  Stock        x0        x1        x2           x3A  \\\n",
       "Index                                                                   \n",
       "0           1    1    363  0.002696  0.530040  0.400810  1.300048e-06   \n",
       "1           1    1   1223  0.081093  1.366218  1.325157  1.656861e-05   \n",
       "2           1    1   1372  0.009561  0.464871  0.328008  6.500872e-08   \n",
       "3           1    1   1942  0.045300  0.608222  0.456662  1.928694e-08   \n",
       "4           1    1   2712  0.001605  0.476718  0.205069  6.759866e-07   \n",
       "\n",
       "                x3B           x3C           x3D           x3E        x4  \\\n",
       "Index                                                                     \n",
       "0      4.639533e-06  1.073594e-05  2.180516e-05  4.416943e-05  0.002212   \n",
       "1      3.024668e-05  5.261872e-05  4.193762e-05  4.193762e-05  0.010932   \n",
       "2      2.323204e-07  5.182686e-07  1.080834e-06  2.030442e-06  0.000306   \n",
       "3      6.495275e-08  1.338509e-07  2.644214e-07  6.980798e-07  0.000205   \n",
       "4      2.638783e-06  6.424519e-06  1.189923e-05  2.064450e-05  0.001525   \n",
       "\n",
       "                 x5          x6         y      Weight  \n",
       "Index                                                  \n",
       "0      6.214737e-07  200.000000 -0.000196    1.533780  \n",
       "1      3.414868e-05  300.000000 -0.003798    0.843604  \n",
       "2      4.079460e-08  159.692076 -0.000003   29.824024  \n",
       "3      9.502066e-09  212.160378 -0.000008  100.388668  \n",
       "4      3.428403e-07  153.724351  0.000065    5.950714  "
      ]
     },
     "execution_count": 3,
     "metadata": {},
     "output_type": "execute_result"
    }
   ],
   "source": [
    "df = pd.read_csv('train.csv', index_col=0)\n",
    "df.head()"
   ]
  },
  {
   "cell_type": "code",
   "execution_count": 4,
   "metadata": {
    "collapsed": true
   },
   "outputs": [],
   "source": [
    "del df['Market']\n",
    "del df['Day']\n",
    "del df['Stock']"
   ]
  },
  {
   "cell_type": "code",
   "execution_count": 5,
   "metadata": {
    "collapsed": true
   },
   "outputs": [],
   "source": [
    "del df['Weight']"
   ]
  },
  {
   "cell_type": "code",
   "execution_count": 6,
   "metadata": {},
   "outputs": [
    {
     "data": {
      "text/html": [
       "<div>\n",
       "<style>\n",
       "    .dataframe thead tr:only-child th {\n",
       "        text-align: right;\n",
       "    }\n",
       "\n",
       "    .dataframe thead th {\n",
       "        text-align: left;\n",
       "    }\n",
       "\n",
       "    .dataframe tbody tr th {\n",
       "        vertical-align: top;\n",
       "    }\n",
       "</style>\n",
       "<table border=\"1\" class=\"dataframe\">\n",
       "  <thead>\n",
       "    <tr style=\"text-align: right;\">\n",
       "      <th></th>\n",
       "      <th>x0</th>\n",
       "      <th>x1</th>\n",
       "      <th>x2</th>\n",
       "      <th>x3A</th>\n",
       "      <th>x3B</th>\n",
       "      <th>x3C</th>\n",
       "      <th>x3D</th>\n",
       "      <th>x3E</th>\n",
       "      <th>x4</th>\n",
       "      <th>x5</th>\n",
       "      <th>x6</th>\n",
       "      <th>y</th>\n",
       "    </tr>\n",
       "    <tr>\n",
       "      <th>Index</th>\n",
       "      <th></th>\n",
       "      <th></th>\n",
       "      <th></th>\n",
       "      <th></th>\n",
       "      <th></th>\n",
       "      <th></th>\n",
       "      <th></th>\n",
       "      <th></th>\n",
       "      <th></th>\n",
       "      <th></th>\n",
       "      <th></th>\n",
       "      <th></th>\n",
       "    </tr>\n",
       "  </thead>\n",
       "  <tbody>\n",
       "    <tr>\n",
       "      <th>0</th>\n",
       "      <td>0.002696</td>\n",
       "      <td>0.530040</td>\n",
       "      <td>0.400810</td>\n",
       "      <td>1.300048e-06</td>\n",
       "      <td>4.639533e-06</td>\n",
       "      <td>1.073594e-05</td>\n",
       "      <td>2.180516e-05</td>\n",
       "      <td>4.416943e-05</td>\n",
       "      <td>0.002212</td>\n",
       "      <td>6.214737e-07</td>\n",
       "      <td>200.000000</td>\n",
       "      <td>-0.000196</td>\n",
       "    </tr>\n",
       "    <tr>\n",
       "      <th>1</th>\n",
       "      <td>0.081093</td>\n",
       "      <td>1.366218</td>\n",
       "      <td>1.325157</td>\n",
       "      <td>1.656861e-05</td>\n",
       "      <td>3.024668e-05</td>\n",
       "      <td>5.261872e-05</td>\n",
       "      <td>4.193762e-05</td>\n",
       "      <td>4.193762e-05</td>\n",
       "      <td>0.010932</td>\n",
       "      <td>3.414868e-05</td>\n",
       "      <td>300.000000</td>\n",
       "      <td>-0.003798</td>\n",
       "    </tr>\n",
       "    <tr>\n",
       "      <th>2</th>\n",
       "      <td>0.009561</td>\n",
       "      <td>0.464871</td>\n",
       "      <td>0.328008</td>\n",
       "      <td>6.500872e-08</td>\n",
       "      <td>2.323204e-07</td>\n",
       "      <td>5.182686e-07</td>\n",
       "      <td>1.080834e-06</td>\n",
       "      <td>2.030442e-06</td>\n",
       "      <td>0.000306</td>\n",
       "      <td>4.079460e-08</td>\n",
       "      <td>159.692076</td>\n",
       "      <td>-0.000003</td>\n",
       "    </tr>\n",
       "    <tr>\n",
       "      <th>3</th>\n",
       "      <td>0.045300</td>\n",
       "      <td>0.608222</td>\n",
       "      <td>0.456662</td>\n",
       "      <td>1.928694e-08</td>\n",
       "      <td>6.495275e-08</td>\n",
       "      <td>1.338509e-07</td>\n",
       "      <td>2.644214e-07</td>\n",
       "      <td>6.980798e-07</td>\n",
       "      <td>0.000205</td>\n",
       "      <td>9.502066e-09</td>\n",
       "      <td>212.160378</td>\n",
       "      <td>-0.000008</td>\n",
       "    </tr>\n",
       "    <tr>\n",
       "      <th>4</th>\n",
       "      <td>0.001605</td>\n",
       "      <td>0.476718</td>\n",
       "      <td>0.205069</td>\n",
       "      <td>6.759866e-07</td>\n",
       "      <td>2.638783e-06</td>\n",
       "      <td>6.424519e-06</td>\n",
       "      <td>1.189923e-05</td>\n",
       "      <td>2.064450e-05</td>\n",
       "      <td>0.001525</td>\n",
       "      <td>3.428403e-07</td>\n",
       "      <td>153.724351</td>\n",
       "      <td>0.000065</td>\n",
       "    </tr>\n",
       "  </tbody>\n",
       "</table>\n",
       "</div>"
      ],
      "text/plain": [
       "             x0        x1        x2           x3A           x3B           x3C  \\\n",
       "Index                                                                           \n",
       "0      0.002696  0.530040  0.400810  1.300048e-06  4.639533e-06  1.073594e-05   \n",
       "1      0.081093  1.366218  1.325157  1.656861e-05  3.024668e-05  5.261872e-05   \n",
       "2      0.009561  0.464871  0.328008  6.500872e-08  2.323204e-07  5.182686e-07   \n",
       "3      0.045300  0.608222  0.456662  1.928694e-08  6.495275e-08  1.338509e-07   \n",
       "4      0.001605  0.476718  0.205069  6.759866e-07  2.638783e-06  6.424519e-06   \n",
       "\n",
       "                x3D           x3E        x4            x5          x6  \\\n",
       "Index                                                                   \n",
       "0      2.180516e-05  4.416943e-05  0.002212  6.214737e-07  200.000000   \n",
       "1      4.193762e-05  4.193762e-05  0.010932  3.414868e-05  300.000000   \n",
       "2      1.080834e-06  2.030442e-06  0.000306  4.079460e-08  159.692076   \n",
       "3      2.644214e-07  6.980798e-07  0.000205  9.502066e-09  212.160378   \n",
       "4      1.189923e-05  2.064450e-05  0.001525  3.428403e-07  153.724351   \n",
       "\n",
       "              y  \n",
       "Index            \n",
       "0     -0.000196  \n",
       "1     -0.003798  \n",
       "2     -0.000003  \n",
       "3     -0.000008  \n",
       "4      0.000065  "
      ]
     },
     "execution_count": 6,
     "metadata": {},
     "output_type": "execute_result"
    }
   ],
   "source": [
    "df.fillna(0)\n",
    "df.head()"
   ]
  },
  {
   "cell_type": "code",
   "execution_count": 7,
   "metadata": {},
   "outputs": [
    {
     "name": "stdout",
     "output_type": "stream",
     "text": [
      "(array([], dtype=int64),)\n",
      "(array([], dtype=int64),)\n",
      "(array([], dtype=int64),)\n",
      "(array([], dtype=int64),)\n",
      "(array([], dtype=int64),)\n",
      "(array([], dtype=int64),)\n",
      "(array([], dtype=int64),)\n",
      "(array([], dtype=int64),)\n",
      "(array([], dtype=int64),)\n",
      "(array([], dtype=int64),)\n",
      "(array([], dtype=int64),)\n",
      "(array([], dtype=int64),)\n"
     ]
    }
   ],
   "source": [
    "for column in df.columns:\n",
    "    df.fillna(0, inplace=True)\n",
    "    print(np.where(np.isnan(df[column])))"
   ]
  },
  {
   "cell_type": "code",
   "execution_count": 8,
   "metadata": {
    "collapsed": true
   },
   "outputs": [],
   "source": [
    "X, y = df.loc[:, 'x0':'x6'], df.loc[:,'y']"
   ]
  },
  {
   "cell_type": "code",
   "execution_count": 9,
   "metadata": {
    "collapsed": true
   },
   "outputs": [],
   "source": [
    "X, y = X.values, y.values"
   ]
  },
  {
   "cell_type": "code",
   "execution_count": 10,
   "metadata": {},
   "outputs": [
    {
     "name": "stdout",
     "output_type": "stream",
     "text": [
      "(array([], dtype=int64), array([], dtype=int64))\n",
      "(array([], dtype=int64),)\n",
      "(array([], dtype=int64),)\n"
     ]
    }
   ],
   "source": [
    "print(np.where(np.isnan(X)))\n",
    "print(np.where(y > 1))\n",
    "print(np.where(y < -1))"
   ]
  },
  {
   "cell_type": "code",
   "execution_count": 11,
   "metadata": {},
   "outputs": [
    {
     "name": "stdout",
     "output_type": "stream",
     "text": [
      "[4.99827504e+06 2.94626390e+03 6.77912473e+02 2.83150876e-02\n",
      " 6.51416194e-02 1.09440456e-01 2.06560350e-01 3.61169254e-01\n",
      " 1.02200000e-01 3.58925753e-02 7.34914405e+05]\n"
     ]
    }
   ],
   "source": [
    "from sklearn.preprocessing import MinMaxScaler\n",
    "scaler = MinMaxScaler(feature_range=(-1, 1))\n",
    "scaler.fit(X)\n",
    "print(scaler.data_max_)\n",
    "X_std = scaler.transform(X)"
   ]
  },
  {
   "cell_type": "code",
   "execution_count": 12,
   "metadata": {},
   "outputs": [
    {
     "name": "stdout",
     "output_type": "stream",
     "text": [
      "(623817, 11)\n",
      "(623817, 11)\n"
     ]
    }
   ],
   "source": [
    "print(X.shape)\n",
    "print(X_std.shape)\n",
    "X_train = X_std.reshape(X_std.shape[0], 1, X_std.shape[1])"
   ]
  },
  {
   "cell_type": "code",
   "execution_count": 13,
   "metadata": {},
   "outputs": [
    {
     "name": "stderr",
     "output_type": "stream",
     "text": [
      "/home/lambda/anaconda3/lib/python3.6/site-packages/h5py/__init__.py:34: FutureWarning: Conversion of the second argument of issubdtype from `float` to `np.floating` is deprecated. In future, it will be treated as `np.float64 == np.dtype(float).type`.\n",
      "  from ._conv import register_converters as _register_converters\n",
      "Using TensorFlow backend.\n"
     ]
    }
   ],
   "source": [
    "from keras.models import Sequential"
   ]
  },
  {
   "cell_type": "code",
   "execution_count": 14,
   "metadata": {
    "collapsed": true
   },
   "outputs": [],
   "source": [
    "from keras.layers import Dense, Activation, LSTM, Dropout, LeakyReLU"
   ]
  },
  {
   "cell_type": "code",
   "execution_count": 17,
   "metadata": {},
   "outputs": [],
   "source": [
    "from keras.models import load_model\n",
    "# run this to load\n",
    "model = load_model('more_more_lstm.hd5')"
   ]
  },
  {
   "cell_type": "code",
   "execution_count": 20,
   "metadata": {
    "collapsed": true
   },
   "outputs": [],
   "source": [
    "# model = Sequential()\n",
    "batch_size = 32"
   ]
  },
  {
   "cell_type": "code",
   "execution_count": 21,
   "metadata": {},
   "outputs": [
    {
     "name": "stdout",
     "output_type": "stream",
     "text": [
      "(623808, 1, 11)\n",
      "(623808,)\n"
     ]
    }
   ],
   "source": [
    "_ = X_train.shape[0] // batch_size * batch_size\n",
    "X_train = X_train[:_, :, :]\n",
    "y_train = y[:_]\n",
    "print(X_train.shape)\n",
    "print(y_train.shape)"
   ]
  },
  {
   "cell_type": "code",
   "execution_count": 33,
   "metadata": {
    "collapsed": true
   },
   "outputs": [],
   "source": [
    "model.add(LSTM(50, input_shape=(X_train.shape[1], X_train.shape[2]), return_sequences=True))\n",
    "model.add(LeakyReLU(alpha=0.01))\n",
    "model.add(Dropout(0.2))\n",
    "model.add(LSTM(100, return_sequences=False))\n",
    "model.add(Dropout(0.2))"
   ]
  },
  {
   "cell_type": "code",
   "execution_count": 34,
   "metadata": {
    "collapsed": true
   },
   "outputs": [],
   "source": [
    "model.add(Dense(1))\n",
    "model.add(Activation('tanh'))"
   ]
  },
  {
   "cell_type": "code",
   "execution_count": 35,
   "metadata": {
    "collapsed": true
   },
   "outputs": [],
   "source": [
    "model.compile(loss='mse', optimizer='adam')"
   ]
  },
  {
   "cell_type": "code",
   "execution_count": 22,
   "metadata": {},
   "outputs": [
    {
     "name": "stdout",
     "output_type": "stream",
     "text": [
      "Train on 530236 samples, validate on 93572 samples\n",
      "Epoch 1/40\n",
      "530236/530236 [==============================] - 13s 25us/step - loss: 1.0745e-06 - val_loss: 1.1553e-06\n",
      "Epoch 2/40\n",
      "530236/530236 [==============================] - 13s 25us/step - loss: 1.0748e-06 - val_loss: 1.2054e-06\n",
      "Epoch 3/40\n",
      "530236/530236 [==============================] - 14s 26us/step - loss: 1.0762e-06 - val_loss: 1.1061e-06\n",
      "Epoch 4/40\n",
      "530236/530236 [==============================] - 14s 26us/step - loss: 1.0757e-06 - val_loss: 1.1218e-06\n",
      "Epoch 5/40\n",
      "530236/530236 [==============================] - 13s 24us/step - loss: 1.0765e-06 - val_loss: 1.1463e-06\n",
      "Epoch 6/40\n",
      "530236/530236 [==============================] - 13s 25us/step - loss: 1.0754e-06 - val_loss: 1.1488e-06\n",
      "Epoch 7/40\n",
      "530236/530236 [==============================] - 14s 27us/step - loss: 1.0748e-06 - val_loss: 1.1202e-06\n",
      "Epoch 8/40\n",
      "530236/530236 [==============================] - 14s 26us/step - loss: 1.0764e-06 - val_loss: 1.1054e-06\n",
      "Epoch 9/40\n",
      "530236/530236 [==============================] - 13s 24us/step - loss: 1.0742e-06 - val_loss: 1.2469e-06\n",
      "Epoch 10/40\n",
      "530236/530236 [==============================] - 14s 27us/step - loss: 1.0753e-06 - val_loss: 1.1390e-06\n",
      "Epoch 11/40\n",
      "530236/530236 [==============================] - 14s 26us/step - loss: 1.0752e-06 - val_loss: 1.1491e-06\n",
      "Epoch 12/40\n",
      "530236/530236 [==============================] - 13s 24us/step - loss: 1.0736e-06 - val_loss: 1.1671e-06\n",
      "Epoch 13/40\n",
      "530236/530236 [==============================] - 13s 24us/step - loss: 1.0792e-06 - val_loss: 1.1132e-06\n",
      "Epoch 14/40\n",
      "530236/530236 [==============================] - 13s 24us/step - loss: 1.0731e-06 - val_loss: 1.1180e-06\n",
      "Epoch 15/40\n",
      "530236/530236 [==============================] - 13s 24us/step - loss: 1.0729e-06 - val_loss: 1.1225e-06\n",
      "Epoch 16/40\n",
      "530236/530236 [==============================] - 14s 26us/step - loss: 1.0755e-06 - val_loss: 1.1439e-06\n",
      "Epoch 17/40\n",
      "530236/530236 [==============================] - 13s 25us/step - loss: 1.0714e-06 - val_loss: 1.1411e-06\n",
      "Epoch 18/40\n",
      "530236/530236 [==============================] - 13s 24us/step - loss: 1.0767e-06 - val_loss: 1.1923e-06\n",
      "Epoch 19/40\n",
      "530236/530236 [==============================] - 13s 24us/step - loss: 1.0723e-06 - val_loss: 1.1247e-06\n",
      "Epoch 20/40\n",
      "530236/530236 [==============================] - 13s 24us/step - loss: 1.0722e-06 - val_loss: 1.1845e-06\n",
      "Epoch 21/40\n",
      "530236/530236 [==============================] - 13s 24us/step - loss: 1.0741e-06 - val_loss: 1.1436e-06\n",
      "Epoch 22/40\n",
      "530236/530236 [==============================] - 13s 24us/step - loss: 1.0732e-06 - val_loss: 1.1922e-06\n",
      "Epoch 23/40\n",
      "530236/530236 [==============================] - 13s 24us/step - loss: 1.0713e-06 - val_loss: 1.1411e-06\n",
      "Epoch 24/40\n",
      "530236/530236 [==============================] - 13s 24us/step - loss: 1.0739e-06 - val_loss: 1.1427e-06\n",
      "Epoch 25/40\n",
      "530236/530236 [==============================] - 13s 24us/step - loss: 1.0721e-06 - val_loss: 1.1426e-06\n",
      "Epoch 26/40\n",
      "530236/530236 [==============================] - 13s 24us/step - loss: 1.0723e-06 - val_loss: 1.1289e-06\n",
      "Epoch 27/40\n",
      "530236/530236 [==============================] - 13s 25us/step - loss: 1.0722e-06 - val_loss: 1.1333e-06\n",
      "Epoch 28/40\n",
      "530236/530236 [==============================] - 13s 24us/step - loss: 1.0734e-06 - val_loss: 1.1243e-06\n",
      "Epoch 29/40\n",
      "530236/530236 [==============================] - 13s 24us/step - loss: 1.0717e-06 - val_loss: 1.1392e-06\n",
      "Epoch 30/40\n",
      "530236/530236 [==============================] - 12s 23us/step - loss: 1.0698e-06 - val_loss: 1.1397e-06\n",
      "Epoch 31/40\n",
      "530236/530236 [==============================] - 12s 23us/step - loss: 1.0749e-06 - val_loss: 1.1532e-06\n",
      "Epoch 32/40\n",
      "530236/530236 [==============================] - 13s 24us/step - loss: 1.0738e-06 - val_loss: 1.2439e-06\n",
      "Epoch 33/40\n",
      "530236/530236 [==============================] - 13s 24us/step - loss: 1.0723e-06 - val_loss: 1.2421e-06\n",
      "Epoch 34/40\n",
      "530236/530236 [==============================] - 13s 24us/step - loss: 1.0714e-06 - val_loss: 1.1753e-06\n",
      "Epoch 35/40\n",
      "530236/530236 [==============================] - 12s 23us/step - loss: 1.0741e-06 - val_loss: 1.4154e-06\n",
      "Epoch 36/40\n",
      "530236/530236 [==============================] - 12s 23us/step - loss: 1.0713e-06 - val_loss: 1.1533e-06\n",
      "Epoch 37/40\n",
      "530236/530236 [==============================] - 12s 23us/step - loss: 1.0710e-06 - val_loss: 1.1355e-06\n",
      "Epoch 38/40\n",
      "530236/530236 [==============================] - 12s 23us/step - loss: 1.0738e-06 - val_loss: 1.1348e-06\n",
      "Epoch 39/40\n",
      "530236/530236 [==============================] - 12s 23us/step - loss: 1.0706e-06 - val_loss: 1.1660e-06\n",
      "Epoch 40/40\n",
      "530236/530236 [==============================] - 13s 24us/step - loss: 1.0739e-06 - val_loss: 1.1422e-06\n"
     ]
    },
    {
     "data": {
      "text/plain": [
       "<keras.callbacks.History at 0x7fc8450fa828>"
      ]
     },
     "execution_count": 22,
     "metadata": {},
     "output_type": "execute_result"
    }
   ],
   "source": [
    "model.fit(X_train, y_train, epochs=40, batch_size=256, shuffle=True, validation_split=0.15)"
   ]
  },
  {
   "cell_type": "code",
   "execution_count": 37,
   "metadata": {
    "collapsed": true
   },
   "outputs": [],
   "source": [
    "model.save('more_more_lstm.hd5')"
   ]
  },
  {
   "cell_type": "code",
   "execution_count": 23,
   "metadata": {},
   "outputs": [
    {
     "name": "stdout",
     "output_type": "stream",
     "text": [
      "623808/623808 [==============================] - 20s 32us/step\n"
     ]
    },
    {
     "data": {
      "text/plain": [
       "1.0663897078412986e-06"
      ]
     },
     "execution_count": 23,
     "metadata": {},
     "output_type": "execute_result"
    }
   ],
   "source": [
    "model.evaluate(x=X_train, y=y_train, batch_size=batch_size)"
   ]
  },
  {
   "cell_type": "code",
   "execution_count": 24,
   "metadata": {},
   "outputs": [
    {
     "data": {
      "text/plain": [
       "array([[-2.0864527e-05],\n",
       "       [ 7.2607351e-04],\n",
       "       [-3.3096421e-05]], dtype=float32)"
      ]
     },
     "execution_count": 24,
     "metadata": {},
     "output_type": "execute_result"
    }
   ],
   "source": [
    "yhat = model.predict(X_train[:1000], batch_size=32)\n",
    "yhat[:3]"
   ]
  },
  {
   "cell_type": "code",
   "execution_count": 25,
   "metadata": {
    "collapsed": true
   },
   "outputs": [],
   "source": [
    "expected = list(y[:1000])"
   ]
  },
  {
   "cell_type": "code",
   "execution_count": 26,
   "metadata": {
    "collapsed": true
   },
   "outputs": [],
   "source": [
    "pred = [l[0] for l in yhat]"
   ]
  },
  {
   "cell_type": "code",
   "execution_count": 27,
   "metadata": {
    "collapsed": true
   },
   "outputs": [],
   "source": [
    "diff = np.asarray(pred) - np.asarray(expected)"
   ]
  },
  {
   "cell_type": "code",
   "execution_count": 28,
   "metadata": {},
   "outputs": [
    {
     "data": {
      "text/plain": [
       "(1000,)"
      ]
     },
     "execution_count": 28,
     "metadata": {},
     "output_type": "execute_result"
    }
   ],
   "source": [
    "diff.shape"
   ]
  },
  {
   "cell_type": "code",
   "execution_count": 29,
   "metadata": {
    "collapsed": true
   },
   "outputs": [],
   "source": [
    "err = diff / np.asarray(expected)"
   ]
  },
  {
   "cell_type": "code",
   "execution_count": 30,
   "metadata": {
    "collapsed": true
   },
   "outputs": [],
   "source": [
    "err = err * 100"
   ]
  },
  {
   "cell_type": "code",
   "execution_count": 31,
   "metadata": {},
   "outputs": [
    {
     "name": "stdout",
     "output_type": "stream",
     "text": [
      "945 percent of data has err < 1\n",
      "947 percent of data has err < 5\n",
      "948 percent of data has err < 10\n",
      "957 percent of data has err < 25\n",
      "960 percent of data has err < 50\n",
      "967 percent of data has err < 100\n",
      "1000 percent of data has err < 10000\n"
     ]
    }
   ],
   "source": [
    "buckets = [1, 5, 10, 25, 50, 100, 10000]\n",
    "for bucket in buckets:\n",
    "    print(\"%d percent of data has err < %d\" % (np.where(err < bucket)[0].size, bucket))"
   ]
  },
  {
   "cell_type": "code",
   "execution_count": null,
   "metadata": {},
   "outputs": [],
   "source": [
    "tdf = pd.read_csv('test.csv', index_col=0)\n",
    "tdf.head()"
   ]
  },
  {
   "cell_type": "code",
   "execution_count": 48,
   "metadata": {
    "collapsed": true
   },
   "outputs": [],
   "source": [
    "del tdf['Market']\n",
    "del tdf['Day']\n",
    "del tdf['Stock']"
   ]
  },
  {
   "cell_type": "code",
   "execution_count": 49,
   "metadata": {},
   "outputs": [
    {
     "name": "stdout",
     "output_type": "stream",
     "text": [
      "(array([], dtype=int64),)\n",
      "(array([], dtype=int64),)\n",
      "(array([], dtype=int64),)\n",
      "(array([], dtype=int64),)\n",
      "(array([], dtype=int64),)\n",
      "(array([], dtype=int64),)\n",
      "(array([], dtype=int64),)\n",
      "(array([], dtype=int64),)\n",
      "(array([], dtype=int64),)\n",
      "(array([], dtype=int64),)\n",
      "(array([], dtype=int64),)\n"
     ]
    },
    {
     "data": {
      "text/html": [
       "<div>\n",
       "<style>\n",
       "    .dataframe thead tr:only-child th {\n",
       "        text-align: right;\n",
       "    }\n",
       "\n",
       "    .dataframe thead th {\n",
       "        text-align: left;\n",
       "    }\n",
       "\n",
       "    .dataframe tbody tr th {\n",
       "        vertical-align: top;\n",
       "    }\n",
       "</style>\n",
       "<table border=\"1\" class=\"dataframe\">\n",
       "  <thead>\n",
       "    <tr style=\"text-align: right;\">\n",
       "      <th></th>\n",
       "      <th>x0</th>\n",
       "      <th>x1</th>\n",
       "      <th>x2</th>\n",
       "      <th>x3A</th>\n",
       "      <th>x3B</th>\n",
       "      <th>x3C</th>\n",
       "      <th>x3D</th>\n",
       "      <th>x3E</th>\n",
       "      <th>x4</th>\n",
       "      <th>x5</th>\n",
       "      <th>x6</th>\n",
       "    </tr>\n",
       "    <tr>\n",
       "      <th>Index</th>\n",
       "      <th></th>\n",
       "      <th></th>\n",
       "      <th></th>\n",
       "      <th></th>\n",
       "      <th></th>\n",
       "      <th></th>\n",
       "      <th></th>\n",
       "      <th></th>\n",
       "      <th></th>\n",
       "      <th></th>\n",
       "      <th></th>\n",
       "    </tr>\n",
       "  </thead>\n",
       "  <tbody>\n",
       "    <tr>\n",
       "      <th>0</th>\n",
       "      <td>0.000842</td>\n",
       "      <td>0.436594</td>\n",
       "      <td>0.477848</td>\n",
       "      <td>1.535381e-06</td>\n",
       "      <td>4.353950e-06</td>\n",
       "      <td>7.718616e-06</td>\n",
       "      <td>1.632886e-05</td>\n",
       "      <td>3.267851e-05</td>\n",
       "      <td>0.001661</td>\n",
       "      <td>9.724611e-07</td>\n",
       "      <td>112.968475</td>\n",
       "    </tr>\n",
       "    <tr>\n",
       "      <th>1</th>\n",
       "      <td>0.020800</td>\n",
       "      <td>0.636143</td>\n",
       "      <td>0.670798</td>\n",
       "      <td>5.204133e-06</td>\n",
       "      <td>9.546012e-06</td>\n",
       "      <td>1.575258e-05</td>\n",
       "      <td>2.804666e-05</td>\n",
       "      <td>1.082500e-05</td>\n",
       "      <td>0.002104</td>\n",
       "      <td>2.146299e-05</td>\n",
       "      <td>100.000000</td>\n",
       "    </tr>\n",
       "    <tr>\n",
       "      <th>2</th>\n",
       "      <td>0.068580</td>\n",
       "      <td>0.478891</td>\n",
       "      <td>0.481816</td>\n",
       "      <td>5.433730e-08</td>\n",
       "      <td>1.733539e-07</td>\n",
       "      <td>3.866963e-07</td>\n",
       "      <td>8.520664e-07</td>\n",
       "      <td>2.103176e-06</td>\n",
       "      <td>0.000222</td>\n",
       "      <td>3.085296e-08</td>\n",
       "      <td>188.335508</td>\n",
       "    </tr>\n",
       "    <tr>\n",
       "      <th>3</th>\n",
       "      <td>0.011986</td>\n",
       "      <td>0.463201</td>\n",
       "      <td>0.294900</td>\n",
       "      <td>1.103215e-08</td>\n",
       "      <td>3.555558e-08</td>\n",
       "      <td>7.280376e-08</td>\n",
       "      <td>1.364231e-07</td>\n",
       "      <td>3.155050e-07</td>\n",
       "      <td>0.000141</td>\n",
       "      <td>1.678216e-08</td>\n",
       "      <td>212.123913</td>\n",
       "    </tr>\n",
       "    <tr>\n",
       "      <th>4</th>\n",
       "      <td>0.000164</td>\n",
       "      <td>0.549980</td>\n",
       "      <td>0.352332</td>\n",
       "      <td>4.494670e-07</td>\n",
       "      <td>8.503405e-07</td>\n",
       "      <td>1.222847e-06</td>\n",
       "      <td>1.901114e-06</td>\n",
       "      <td>4.048304e-06</td>\n",
       "      <td>0.001235</td>\n",
       "      <td>4.595200e-07</td>\n",
       "      <td>124.024977</td>\n",
       "    </tr>\n",
       "  </tbody>\n",
       "</table>\n",
       "</div>"
      ],
      "text/plain": [
       "             x0        x1        x2           x3A           x3B           x3C  \\\n",
       "Index                                                                           \n",
       "0      0.000842  0.436594  0.477848  1.535381e-06  4.353950e-06  7.718616e-06   \n",
       "1      0.020800  0.636143  0.670798  5.204133e-06  9.546012e-06  1.575258e-05   \n",
       "2      0.068580  0.478891  0.481816  5.433730e-08  1.733539e-07  3.866963e-07   \n",
       "3      0.011986  0.463201  0.294900  1.103215e-08  3.555558e-08  7.280376e-08   \n",
       "4      0.000164  0.549980  0.352332  4.494670e-07  8.503405e-07  1.222847e-06   \n",
       "\n",
       "                x3D           x3E        x4            x5          x6  \n",
       "Index                                                                  \n",
       "0      1.632886e-05  3.267851e-05  0.001661  9.724611e-07  112.968475  \n",
       "1      2.804666e-05  1.082500e-05  0.002104  2.146299e-05  100.000000  \n",
       "2      8.520664e-07  2.103176e-06  0.000222  3.085296e-08  188.335508  \n",
       "3      1.364231e-07  3.155050e-07  0.000141  1.678216e-08  212.123913  \n",
       "4      1.901114e-06  4.048304e-06  0.001235  4.595200e-07  124.024977  "
      ]
     },
     "execution_count": 49,
     "metadata": {},
     "output_type": "execute_result"
    }
   ],
   "source": [
    "for column in tdf.columns:\n",
    "    tdf.fillna(0, inplace=True)\n",
    "    print(np.where(np.isnan(tdf[column])))\n",
    "tdf.head()"
   ]
  },
  {
   "cell_type": "code",
   "execution_count": 50,
   "metadata": {},
   "outputs": [
    {
     "name": "stdout",
     "output_type": "stream",
     "text": [
      "(640430, 1, 11)\n",
      "[[-1.         -0.99970363 -0.99859024 -0.99989155 -0.99986632 -0.99985894\n",
      "  -0.9998419  -0.99981904 -0.96758707 -0.99994581 -0.99969529]]\n",
      "[[-0.99999999 -0.99956817 -0.99802099 -0.99963241 -0.99970692 -0.99971213\n",
      "  -0.99972844 -0.99994006 -0.95890689 -0.99880404 -0.99973058]]\n"
     ]
    }
   ],
   "source": [
    "X_test = tdf.values\n",
    "X_test = scaler.transform(X_test)\n",
    "X_test = X_test.reshape((X_test.shape[0], 1, X_test.shape[1]))\n",
    "print(X_test.shape)\n",
    "print(X_test[0])\n",
    "print(X_test[1])"
   ]
  },
  {
   "cell_type": "code",
   "execution_count": null,
   "metadata": {
    "collapsed": true
   },
   "outputs": [],
   "source": [
    "yhat = model.predict(X_test, batch_size=32)"
   ]
  },
  {
   "cell_type": "code",
   "execution_count": null,
   "metadata": {
    "collapsed": true
   },
   "outputs": [],
   "source": [
    "print(yhat.shape)\n",
    "yp = pd.Series(yhat.reshape(yhat.shape[0])).rename('y')"
   ]
  },
  {
   "cell_type": "code",
   "execution_count": null,
   "metadata": {
    "collapsed": true
   },
   "outputs": [],
   "source": [
    "yp.index.name = 'Index'\n",
    "yp.head()"
   ]
  },
  {
   "cell_type": "code",
   "execution_count": null,
   "metadata": {
    "collapsed": true
   },
   "outputs": [],
   "source": [
    "yp.to_csv('more_more_lstm.csv', header=True)"
   ]
  },
  {
   "cell_type": "code",
   "execution_count": 144,
   "metadata": {
    "collapsed": true
   },
   "outputs": [],
   "source": [
    "model.save('more_lstm.hd5')"
   ]
  },
  {
   "cell_type": "code",
   "execution_count": null,
   "metadata": {
    "collapsed": true
   },
   "outputs": [],
   "source": []
  }
 ],
 "metadata": {
  "kernelspec": {
   "display_name": "Python 3",
   "language": "python",
   "name": "python3"
  },
  "language_info": {
   "codemirror_mode": {
    "name": "ipython",
    "version": 3
   },
   "file_extension": ".py",
   "mimetype": "text/x-python",
   "name": "python",
   "nbconvert_exporter": "python",
   "pygments_lexer": "ipython3",
   "version": "3.6.3"
  }
 },
 "nbformat": 4,
 "nbformat_minor": 2
}
